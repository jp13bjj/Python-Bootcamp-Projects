{
 "cells": [
  {
   "cell_type": "code",
   "execution_count": 22,
   "metadata": {},
   "outputs": [],
   "source": [
    "def collatz(num):\n",
    "    '''Find the number of steps it takes to reach one using the following process:\n",
    "    If n is even, divide it by 2. If n is odd, multiply it by 3 and add 1.'''\n",
    "    #Checks if input is an integer and within bounds >1\n",
    "    if isinstance(num,int) and num > 1:\n",
    "        #Counting number of iterations to get to 1\n",
    "        i = 0\n",
    "        while True:\n",
    "            if num%2 == 0:\n",
    "                num = num/2\n",
    "                i+=1\n",
    "            else:\n",
    "                num = 3*num + 1\n",
    "                i+=1\n",
    "            #Getting output each iteration\n",
    "            #print('iteration: {},value: {}'.format(i,num))\n",
    "            if num == 1:\n",
    "                break\n",
    "    return i"
   ]
  },
  {
   "cell_type": "code",
   "execution_count": 23,
   "metadata": {},
   "outputs": [
    {
     "data": {
      "text/plain": [
       "25"
      ]
     },
     "execution_count": 23,
     "metadata": {},
     "output_type": "execute_result"
    }
   ],
   "source": [
    "collatz(100)"
   ]
  },
  {
   "cell_type": "code",
   "execution_count": null,
   "metadata": {},
   "outputs": [],
   "source": []
  }
 ],
 "metadata": {
  "kernelspec": {
   "display_name": "Python 3",
   "language": "python",
   "name": "python3"
  },
  "language_info": {
   "codemirror_mode": {
    "name": "ipython",
    "version": 3
   },
   "file_extension": ".py",
   "mimetype": "text/x-python",
   "name": "python",
   "nbconvert_exporter": "python",
   "pygments_lexer": "ipython3",
   "version": "3.8.3"
  }
 },
 "nbformat": 4,
 "nbformat_minor": 4
}
