{
 "cells": [
  {
   "cell_type": "code",
   "execution_count": 15,
   "metadata": {},
   "outputs": [],
   "source": [
    "def count_vow(st):\n",
    "    \"\"\" Returns list of total number of vowels in string. Followed by number of a's,e's,i's,o's, and u's \"\"\"\n",
    "    if isinstance(st,str):\n",
    "        a_s = st.count('a')\n",
    "        e_s = st.count('e')\n",
    "        i_s = st.count('i')\n",
    "        o_s = st.count('o')\n",
    "        u_s = st.count('u')\n",
    "        vowels = a_s + e_s + i_s + o_s + u_s\n",
    "    return [vowels,a_s,e_s,i_s,o_s,u_s]"
   ]
  },
  {
   "cell_type": "code",
   "execution_count": 16,
   "metadata": {},
   "outputs": [
    {
     "data": {
      "text/plain": [
       "[9, 2, 5, 1, 0, 1]"
      ]
     },
     "execution_count": 16,
     "metadata": {},
     "output_type": "execute_result"
    }
   ],
   "source": [
    "count_vow('ejflekjklajevewaveiwu')"
   ]
  },
  {
   "cell_type": "code",
   "execution_count": null,
   "metadata": {},
   "outputs": [],
   "source": []
  }
 ],
 "metadata": {
  "kernelspec": {
   "display_name": "Python 3",
   "language": "python",
   "name": "python3"
  },
  "language_info": {
   "codemirror_mode": {
    "name": "ipython",
    "version": 3
   },
   "file_extension": ".py",
   "mimetype": "text/x-python",
   "name": "python",
   "nbconvert_exporter": "python",
   "pygments_lexer": "ipython3",
   "version": "3.8.3"
  }
 },
 "nbformat": 4,
 "nbformat_minor": 4
}
