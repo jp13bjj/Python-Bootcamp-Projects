{
 "cells": [
  {
   "cell_type": "code",
   "execution_count": 1,
   "metadata": {},
   "outputs": [
    {
     "data": {
      "text/plain": [
       "' Could optimize code further by getting function to stop calculating once last\\nprime number is found instead of checking until n. See commented bits if you want to play\\naround with getting it to do that.'"
      ]
     },
     "execution_count": 1,
     "metadata": {},
     "output_type": "execute_result"
    }
   ],
   "source": [
    "def genprimes(n):\n",
    "    \"\"\"\n",
    "    Generate a list of prime factors for entered number\n",
    "    \"\"\"\n",
    "    #Intializing varialbes\n",
    "    n_div = n\n",
    "    dupli_check = False\n",
    "    #primes_remain = True\n",
    "    primes = []\n",
    "    \n",
    "    #Getting list of prime factors\n",
    "    #while primes_remain:\n",
    "    for i in range(2,n_div+1):\n",
    "        #print(i)\n",
    "        #if n_div%i == 0 and n_div + 1 == n:\n",
    "        if n_div%i == 0:\n",
    "            n_div = n_div/i\n",
    "            primes.append(i)\n",
    "            dupli_check = True\n",
    "            while dupli_check:\n",
    "                if n_div%i == 0:\n",
    "                    n_div = n_div/i\n",
    "                    primes.append(i)\n",
    "                else:\n",
    "                    dupli_check = False\n",
    "    return primes\n",
    "''' Could optimize code further by getting function to stop calculating once last\n",
    "prime number is found instead of checking until n. See commented bits if you want to play\n",
    "around with getting it to do that.'''  "
   ]
  },
  {
   "cell_type": "code",
   "execution_count": 2,
   "metadata": {},
   "outputs": [
    {
     "data": {
      "text/plain": [
       "[2, 2, 5, 5]"
      ]
     },
     "execution_count": 2,
     "metadata": {},
     "output_type": "execute_result"
    }
   ],
   "source": [
    "genprimes(100)"
   ]
  },
  {
   "cell_type": "code",
   "execution_count": 9,
   "metadata": {},
   "outputs": [],
   "source": [
    "def prod_int(lis,integ):\n",
    "    \"\"\"\n",
    "    Gives the product of a list of integers with an additional integer not in the list\n",
    "    \"\"\"   \n",
    "    from math import prod\n",
    "    prods = integ*prod(lis)\n",
    "    return prods"
   ]
  },
  {
   "cell_type": "code",
   "execution_count": 10,
   "metadata": {},
   "outputs": [
    {
     "data": {
      "text/plain": [
       "24"
      ]
     },
     "execution_count": 10,
     "metadata": {},
     "output_type": "execute_result"
    }
   ],
   "source": [
    "prod_int([1,2,3],4)"
   ]
  },
  {
   "cell_type": "code",
   "execution_count": 13,
   "metadata": {},
   "outputs": [
    {
     "data": {
      "text/plain": [
       "' Make own function to mulitply list elements with single integer to get input!!!!!!!'"
      ]
     },
     "execution_count": 13,
     "metadata": {},
     "output_type": "execute_result"
    }
   ],
   "source": [
    "def genprimes_eff(n):\n",
    "    \"\"\"\n",
    "    Generate a list of prime factors for entered number\n",
    "    \"\"\"\n",
    "    #Intializing varialbes\n",
    "    from numpy import prod\n",
    "    n_div = n\n",
    "    dupli_check = False\n",
    "    primes_remain = True\n",
    "    primes = []\n",
    "    \n",
    "    #Getting list of prime factors\n",
    "    while primes_remain:\n",
    "        for i in range(2,int(n_div+1)):\n",
    "            #print(i)\n",
    "            if n_div%i == 0 and int(prod_int(primes,n_div)) >= n:\n",
    "                print(int(prod_int(primes,n_div)))\n",
    "                print(primes)\n",
    "                print(n_div)\n",
    "                primes_remain = False\n",
    "                break\n",
    "            elif n_div%i == 0:\n",
    "                n_div = n_div/i\n",
    "                primes.append(i)\n",
    "                dupli_check = True\n",
    "                while dupli_check:\n",
    "                    if n_div%i == 0:\n",
    "                        n_div = n_div/i\n",
    "                        primes.append(i)\n",
    "                    else:\n",
    "                        dupli_check = False\n",
    "    return primes\n",
    "''' Make own function to mulitply list elements with single integer to get input!!!!!!!'''  "
   ]
  },
  {
   "cell_type": "code",
   "execution_count": 14,
   "metadata": {},
   "outputs": [
    {
     "name": "stdout",
     "output_type": "stream",
     "text": [
      "20\n",
      "[]\n",
      "20\n"
     ]
    },
    {
     "data": {
      "text/plain": [
       "[]"
      ]
     },
     "execution_count": 14,
     "metadata": {},
     "output_type": "execute_result"
    }
   ],
   "source": [
    "genprimes_eff(20)"
   ]
  },
  {
   "cell_type": "code",
   "execution_count": 8,
   "metadata": {},
   "outputs": [
    {
     "data": {
      "text/plain": [
       "1"
      ]
     },
     "execution_count": 8,
     "metadata": {},
     "output_type": "execute_result"
    }
   ],
   "source": [
    "from numpy import prod\n",
    "int(prod([]))"
   ]
  },
  {
   "cell_type": "code",
   "execution_count": 5,
   "metadata": {},
   "outputs": [
    {
     "name": "stdout",
     "output_type": "stream",
     "text": [
      "Welcome to the Prime Factorizer.. Enter the numbers in the prompt or enter 'quit' to exit\n",
      ">>>81704823\n",
      "3*199*136859\n",
      ">>>quit\n"
     ]
    }
   ],
   "source": [
    "factors = lambda n: [x for x in range(1,n+1) if not n%x]\n",
    "is_prime = lambda n: len(factors(n))==2\n",
    "primefactors = lambda n: list(filter(is_prime ,factors(n)))\n",
    "\n",
    "def primeFactorize(n):\n",
    "\tn = int(n)\n",
    "\tf = primefactors(n)\n",
    "\tif is_prime(n):\n",
    "\t\treturn str(n)\n",
    "\telse:\n",
    "\t\treturn str(f[0])+ \"*\"+primeFactorize(n/f[0])\n",
    "\n",
    "if __name__=='__main__':\n",
    "\tprint (\"Welcome to the Prime Factorizer.. Enter the numbers in the prompt or enter 'quit' to exit\")\n",
    "\tnum=0;\n",
    "\t\n",
    "\twhile True:\n",
    "\t\tif num:\n",
    "\t\t\tprint(primeFactorize(num))\n",
    "\t\tprint(\">>>\",end='')\n",
    "\t\tnum=input()\n",
    "\t\tif num==\"quit\":\n",
    "\t\t\tbreak"
   ]
  },
  {
   "cell_type": "code",
   "execution_count": null,
   "metadata": {},
   "outputs": [],
   "source": []
  }
 ],
 "metadata": {
  "kernelspec": {
   "display_name": "Python 3",
   "language": "python",
   "name": "python3"
  },
  "language_info": {
   "codemirror_mode": {
    "name": "ipython",
    "version": 3
   },
   "file_extension": ".py",
   "mimetype": "text/x-python",
   "name": "python",
   "nbconvert_exporter": "python",
   "pygments_lexer": "ipython3",
   "version": "3.8.3"
  }
 },
 "nbformat": 4,
 "nbformat_minor": 4
}
