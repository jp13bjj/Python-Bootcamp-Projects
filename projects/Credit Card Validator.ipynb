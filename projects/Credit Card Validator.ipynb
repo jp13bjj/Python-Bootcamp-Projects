{
 "cells": [
  {
   "cell_type": "code",
   "execution_count": 63,
   "metadata": {},
   "outputs": [],
   "source": [
    "def cc_valid(num):\n",
    "    '''Takes in a credit card number from a common credit card vendor\n",
    "(Visa, MasterCard, American Express, Discover) and validates it to make sure that it is a valid number.\n",
    "Returns boolean (True/False).'''\n",
    "\n",
    "    #Getting list of credit card numbers\n",
    "    val = [int(d) for d in str(num)]\n",
    "    #Getting last digit in card number and removing from list\n",
    "    checksum = val.pop()\n",
    "    #Reversing remaining list of card numbers\n",
    "    val.reverse()\n",
    "    \n",
    "    # Performing Luhn Alogrithm\n",
    "    for count,value in enumerate(val,1):\n",
    "        #print(val)\n",
    "        if count%2 != 0:\n",
    "            value = 2*value\n",
    "            val[count-1] = value\n",
    "            #print(value)\n",
    "        #print(value)\n",
    "            if value > 9:\n",
    "                value = value - 9\n",
    "                val[count-1] = value\n",
    "                #print(value)\n",
    "    #print(val)\n",
    "    \n",
    "    \n",
    "    sum_val = sum(val)\n",
    "    #print(sum_val)\n",
    "    #Checking if card number valid\n",
    "    return (sum_val+checksum)%10 == 0"
   ]
  },
  {
   "cell_type": "code",
   "execution_count": 64,
   "metadata": {},
   "outputs": [
    {
     "data": {
      "text/plain": [
       "True"
      ]
     },
     "execution_count": 64,
     "metadata": {},
     "output_type": "execute_result"
    }
   ],
   "source": [
    "cc_valid(6011197626654089784)"
   ]
  },
  {
   "cell_type": "code",
   "execution_count": 69,
   "metadata": {},
   "outputs": [],
   "source": [
    "def cc_valid(num):\n",
    "    '''Takes in a credit card number from a common credit card vendor\n",
    "(Visa, MasterCard, American Express, Discover) and validates it to make sure that it is a valid number.\n",
    "Returns boolean (True/False).'''\n",
    "\n",
    "    #Getting list of credit card numbers\n",
    "    val = [int(d) for d in str(num)]\n",
    "    #Getting last digit in card number and removing from list\n",
    "    checksum = val.pop()\n",
    "    #Reversing remaining list of card numbers\n",
    "    val.reverse()\n",
    "    \n",
    "    # Performing Luhn Alogrithm\n",
    "    for count,value in enumerate(val,1):\n",
    "        if count%2 != 0:\n",
    "            value = 2*value\n",
    "            val[count-1] = value\n",
    "            if value > 9:\n",
    "                value = value - 9\n",
    "                val[count-1] = value\n",
    "    sum_val = sum(val)\n",
    "    \n",
    "    #Checking if card number valid\n",
    "    return (sum_val+checksum)%10 == 0"
   ]
  },
  {
   "cell_type": "code",
   "execution_count": 70,
   "metadata": {},
   "outputs": [
    {
     "data": {
      "text/plain": [
       "True"
      ]
     },
     "execution_count": 70,
     "metadata": {},
     "output_type": "execute_result"
    }
   ],
   "source": [
    "cc_valid(6011197626654089784)"
   ]
  },
  {
   "cell_type": "code",
   "execution_count": null,
   "metadata": {},
   "outputs": [],
   "source": []
  }
 ],
 "metadata": {
  "kernelspec": {
   "display_name": "Python 3",
   "language": "python",
   "name": "python3"
  },
  "language_info": {
   "codemirror_mode": {
    "name": "ipython",
    "version": 3
   },
   "file_extension": ".py",
   "mimetype": "text/x-python",
   "name": "python",
   "nbconvert_exporter": "python",
   "pygments_lexer": "ipython3",
   "version": "3.8.3"
  }
 },
 "nbformat": 4,
 "nbformat_minor": 4
}
