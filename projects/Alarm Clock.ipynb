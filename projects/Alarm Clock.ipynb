{
 "cells": [
  {
   "cell_type": "code",
   "execution_count": 4,
   "metadata": {},
   "outputs": [
    {
     "name": "stdout",
     "output_type": "stream",
     "text": [
      "What unit of time do you want to wait?\n",
      " (1) Hours\n",
      " (2) Minutes\n",
      " (3) Seconds\n",
      " (4) Combination\n",
      ": 3\n",
      "Enter the desired seconds: 2\n",
      "\n",
      "Wait time: 2 seconds.\n"
     ]
    }
   ],
   "source": [
    "import winsound, time, os, platform\n",
    "\n",
    "\n",
    "def sound():\n",
    "\n",
    "\tfor i in range(5): # Number of repeats\n",
    "\t\t\n",
    "\t\tfor j in range(9): # Number of beeps\n",
    "\t\t\t\n",
    "\t\t\twinsound.MessageBeep(-1) # Sound played\n",
    "\t\t\n",
    "\t\ttime.sleep(2) # How long between beeps\n",
    "\n",
    "def alarm(n):\n",
    "\t\n",
    "\tprint()\n",
    "\tprint(\"Wait time:\", n, \"seconds.\")\n",
    "\ttime.sleep(n) # Waits 'n' seconds before playing sound\n",
    "\t\n",
    "\tsound()\n",
    "\n",
    "def input_destinations(user_input):\n",
    "\n",
    "\tif user_input == '1':\n",
    "\t\t\n",
    "\t\tuser_input = int(input(\"Enter the desired hours: \"))\n",
    "\t\t\n",
    "\t\twait_time = (user_input * 60) * 60\n",
    "\t\talarm(wait_time)\n",
    "\t\n",
    "\telif user_input == '2':\n",
    "\t\t\n",
    "\t\tuser_input = int(input(\"Enter the desired minutes: \"))\n",
    "\t\t\n",
    "\t\twait_time = user_input * 60\n",
    "\t\talarm(wait_time)\n",
    "\n",
    "\telif user_input == '3':\n",
    "\n",
    "\t\tuser_input = int(input(\"Enter the desired seconds: \"))\n",
    "\n",
    "\t\twait_time = user_input\n",
    "\t\talarm(wait_time)\n",
    "\n",
    "\telif user_input == '4':\n",
    "\n",
    "\t\thours = int(input(\"Hours: \"))\n",
    "\t\tminutes = int(input(\"Minutes: \"))\n",
    "\t\tseconds = int(input(\"Seconds: \"))\n",
    "\n",
    "\t\twait_time = ((hours*60)*60) + (minutes*60) + seconds\n",
    "\t\tprint(wait_time)\n",
    "\t\talarm(wait_time)\n",
    "\n",
    "\telse:\n",
    "\t\t\n",
    "\t\ttry:\n",
    "\t\t\tos.system('cls') # If OS is Windows\n",
    "\t\t\tmain()\n",
    "\t\t\t\n",
    "\t\texcept:\n",
    "\t\t\tos.system('clear') # If OS is Linux or Mac\n",
    "\t\t\tmain()\n",
    "\n",
    "def main():\n",
    "\tprint(\"What unit of time do you want to wait?\\n (1) Hours\\n (2) Minutes\\n (3) Seconds\\n (4) Combination\")\n",
    "\tmain_input = input(\": \")\n",
    "\t\n",
    "\tinput_destinations(main_input)\n",
    "\n",
    "\treturn;\n",
    "\n",
    "main()"
   ]
  },
  {
   "cell_type": "code",
   "execution_count": null,
   "metadata": {},
   "outputs": [],
   "source": []
  }
 ],
 "metadata": {
  "kernelspec": {
   "display_name": "Python 3",
   "language": "python",
   "name": "python3"
  },
  "language_info": {
   "codemirror_mode": {
    "name": "ipython",
    "version": 3
   },
   "file_extension": ".py",
   "mimetype": "text/x-python",
   "name": "python",
   "nbconvert_exporter": "python",
   "pygments_lexer": "ipython3",
   "version": "3.8.3"
  }
 },
 "nbformat": 4,
 "nbformat_minor": 4
}
