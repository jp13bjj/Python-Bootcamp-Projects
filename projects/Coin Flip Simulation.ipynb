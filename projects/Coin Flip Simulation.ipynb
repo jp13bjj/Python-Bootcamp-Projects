{
 "cells": [
  {
   "cell_type": "code",
   "execution_count": 1,
   "metadata": {},
   "outputs": [],
   "source": [
    "def CoinFlip(flips):\n",
    "    '''Returns number of times coin flip lands on heads and tails, given number of flips. Returned as a tuple (heads,tails)'''\n",
    "    #Importing libraries\n",
    "    from random import randint\n",
    "    #Initializing variables\n",
    "    heads = 0\n",
    "    tails = 0\n",
    "    \n",
    "    #Counting number of heads and tails\n",
    "    for num in range(flips):\n",
    "        outcome = randint(0,1)\n",
    "        if outcome == 0:\n",
    "            heads += 1\n",
    "        else:\n",
    "            tails += 1\n",
    "    return heads,tails"
   ]
  },
  {
   "cell_type": "code",
   "execution_count": 23,
   "metadata": {},
   "outputs": [
    {
     "data": {
      "text/plain": [
       "(539, 461)"
      ]
     },
     "execution_count": 23,
     "metadata": {},
     "output_type": "execute_result"
    }
   ],
   "source": [
    "CoinFlip(1000)"
   ]
  },
  {
   "cell_type": "code",
   "execution_count": null,
   "metadata": {},
   "outputs": [],
   "source": []
  },
  {
   "cell_type": "code",
   "execution_count": null,
   "metadata": {},
   "outputs": [],
   "source": []
  }
 ],
 "metadata": {
  "kernelspec": {
   "display_name": "Python 3",
   "language": "python",
   "name": "python3"
  },
  "language_info": {
   "codemirror_mode": {
    "name": "ipython",
    "version": 3
   },
   "file_extension": ".py",
   "mimetype": "text/x-python",
   "name": "python",
   "nbconvert_exporter": "python",
   "pygments_lexer": "ipython3",
   "version": "3.8.3"
  }
 },
 "nbformat": 4,
 "nbformat_minor": 4
}
