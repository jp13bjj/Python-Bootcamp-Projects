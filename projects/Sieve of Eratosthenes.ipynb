{
 "cells": [
  {
   "cell_type": "code",
   "execution_count": 37,
   "metadata": {},
   "outputs": [],
   "source": [
    "def sieve(n):\n",
    "    '''Finds prime numbers using the sieve of Eratosthenes.\n",
    "    Is one of the most efficient ways to find all of the smaller primes (below 10 million or so).'''\n",
    "    from sympy import isprime\n",
    "    primes = list(range(2,n+1))\n",
    "    \n",
    "    for i in range(2,n+1):\n",
    "        #print('i: {}'.format(i))\n",
    "        if isprime(i):\n",
    "            j = i\n",
    "            #print('This is j: {}'.format(j))\n",
    "            while n > j:\n",
    "                j += i\n",
    "                #print('This is j in loop: {}'.format(j))\n",
    "                if j in primes:\n",
    "                    primes.remove(j)\n",
    "                else:\n",
    "                    pass\n",
    "    return primes\n",
    "        "
   ]
  },
  {
   "cell_type": "code",
   "execution_count": 38,
   "metadata": {},
   "outputs": [
    {
     "data": {
      "text/plain": [
       "[2,\n",
       " 3,\n",
       " 5,\n",
       " 7,\n",
       " 11,\n",
       " 13,\n",
       " 17,\n",
       " 19,\n",
       " 23,\n",
       " 29,\n",
       " 31,\n",
       " 37,\n",
       " 41,\n",
       " 43,\n",
       " 47,\n",
       " 53,\n",
       " 59,\n",
       " 61,\n",
       " 67,\n",
       " 71,\n",
       " 73,\n",
       " 79,\n",
       " 83,\n",
       " 89,\n",
       " 97]"
      ]
     },
     "execution_count": 38,
     "metadata": {},
     "output_type": "execute_result"
    }
   ],
   "source": [
    "sieve(100)"
   ]
  },
  {
   "cell_type": "code",
   "execution_count": 133,
   "metadata": {},
   "outputs": [],
   "source": [
    "def sieve2(n):\n",
    "    '''Finds prime numbers using the sieve of Eratosthenes.\n",
    "    Is one of the most efficient ways to find all of the smaller primes (below 10 million or so).\n",
    "    If I want to do this without knowing primes beforehand, try creating separate list of True and False\n",
    "    for primes '''\n",
    "    \n",
    "    # Initializing variables\n",
    "    num_list = list(range(2,n+1))\n",
    "    is_prime = [False]*len(num_list)\n",
    "    primes = []\n",
    "    #return len(primes)\n",
    "    \n",
    "    # Getting list of prime numbers (False = Prime, True = non-Prime)\n",
    "    for i in range(2,n-1):\n",
    "        #print('i: {}'.format(i))\n",
    "        #print('value of list: {}'.format(num_list[i]))\n",
    "        if not is_prime[i]:\n",
    "            j = i\n",
    "            #print('This is j: {}'.format(j))\n",
    "            while j+i <= n:\n",
    "                j += i\n",
    "                #print('This is j in loop: {}'.format(j))\n",
    "                if j in num_list:\n",
    "                    is_prime[num_list.index(j)] = True\n",
    "                    #print(num_list)\n",
    "                    #print(is_prime)\n",
    "                else:\n",
    "                    pass\n",
    "    \n",
    "    #Outputting prime numbers\n",
    "    for i in range(n-1):\n",
    "        if is_prime[i] == False:\n",
    "            primes.append(num_list[i])\n",
    "    return primes"
   ]
  },
  {
   "cell_type": "code",
   "execution_count": 134,
   "metadata": {},
   "outputs": [
    {
     "data": {
      "text/plain": [
       "[2,\n",
       " 3,\n",
       " 5,\n",
       " 7,\n",
       " 11,\n",
       " 13,\n",
       " 17,\n",
       " 19,\n",
       " 23,\n",
       " 29,\n",
       " 31,\n",
       " 37,\n",
       " 41,\n",
       " 43,\n",
       " 47,\n",
       " 49,\n",
       " 53,\n",
       " 59,\n",
       " 61,\n",
       " 67,\n",
       " 71,\n",
       " 73,\n",
       " 79,\n",
       " 83,\n",
       " 89,\n",
       " 91,\n",
       " 97]"
      ]
     },
     "execution_count": 134,
     "metadata": {},
     "output_type": "execute_result"
    }
   ],
   "source": [
    "sieve2(100)"
   ]
  },
  {
   "cell_type": "code",
   "execution_count": null,
   "metadata": {},
   "outputs": [],
   "source": [
    "def sieve2(n):\n",
    "    '''Finds prime numbers using the sieve of Eratosthenes.\n",
    "    Is one of the most efficient ways to find all of the smaller primes (below 10 million or so).\n",
    "    If I want to do this without knowing primes beforehand, try creating separate list of True and False\n",
    "    for primes '''\n",
    "    \n",
    "    # Initializing variables\n",
    "    num_list = list(range(2,n+1))\n",
    "    is_prime = [False]*len(num_list)\n",
    "    primes = []\n",
    "    \n",
    "    # Getting list of prime numbers (False = Prime, True = non-Prime)\n",
    "    for i in range(2,n-1):\n",
    "        if not is_prime[i]:\n",
    "            j = i\n",
    "            while j+i <= n:\n",
    "                j += i\n",
    "                if j in num_list:\n",
    "                    is_prime[num_list.index(j)] = True\n",
    "                else:\n",
    "                    pass\n",
    "    \n",
    "    #Outputting prime numbers\n",
    "    for i in range(n-1):\n",
    "        if is_prime[i] == False:\n",
    "            primes.append(num_list[i])\n",
    "    return primes"
   ]
  }
 ],
 "metadata": {
  "kernelspec": {
   "display_name": "Python 3",
   "language": "python",
   "name": "python3"
  },
  "language_info": {
   "codemirror_mode": {
    "name": "ipython",
    "version": 3
   },
   "file_extension": ".py",
   "mimetype": "text/x-python",
   "name": "python",
   "nbconvert_exporter": "python",
   "pygments_lexer": "ipython3",
   "version": "3.8.3"
  }
 },
 "nbformat": 4,
 "nbformat_minor": 4
}
