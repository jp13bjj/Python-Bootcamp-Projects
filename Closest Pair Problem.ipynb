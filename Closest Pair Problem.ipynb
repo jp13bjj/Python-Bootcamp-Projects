{
 "cells": [
  {
   "cell_type": "code",
   "execution_count": null,
   "metadata": {},
   "outputs": [],
   "source": [
    "def cpp(n,[a,b],[c,d]):\n",
    "    '''Takes n number of points as a list (tuple?) and returns pair of points with the smallest distance between them.'''\n",
    "    #See if can do this in terms of *args and *kwargs"
   ]
  },
  {
   "cell_type": "code",
   "execution_count": 8,
   "metadata": {},
   "outputs": [
    {
     "name": "stdout",
     "output_type": "stream",
     "text": [
      "please enter number of random points: \n",
      "7\n",
      "please enter the number (e.g. 2,3,4,...) of dimensions (2D or 3D will plot): \n",
      "3\n",
      "L2-norm distance 0.28283631091419265\n",
      "pt1 coords [0.16279025 0.82587468 0.03289649]\n",
      "pt2 coords [0.44281983 0.86535242 0.02827895]\n"
     ]
    },
    {
     "data": {
      "image/png": "[encoded data removed]",
      "text/plain": [
       "<Figure size 432x288 with 1 Axes>"
      ]
     },
     "metadata": {
      "needs_background": "light"
     },
     "output_type": "display_data"
    },
    {
     "ename": "SystemExit",
     "evalue": "",
     "output_type": "error",
     "traceback": [
      "An exception has occurred, use %tb to see the full traceback.\n",
      "\u001b[1;31mSystemExit\u001b[0m\n"
     ]
    }
   ],
   "source": [
    "'''\n",
    "Given an input array finds the closest pair.  Achieves matching using scipy's cKDTree, very quick even for \n",
    "millions of points.  Speed ups may be achieved using pyflann: \n",
    "https://github.com/mariusmuja/flann/tree/master/src/python/pyflann  \n",
    "User must input number of points to generate and the number of dimensions to use.  For 2D and 3D\n",
    "plots are generated. \n",
    "'''\n",
    "import numpy as np\n",
    "import matplotlib.pyplot as plt\n",
    "import sys\n",
    "import scipy.spatial as spatial \n",
    "from mpl_toolkits.mplot3d import Axes3D\n",
    "\n",
    "def show_2d(r_pts, closest):\n",
    "    if closest == None:\n",
    "        plt.plot(r_pts[:,1],r_pts[:,0],'b.')\n",
    "        plt.show()\n",
    "    else:\n",
    "        plt.plot(r_pts[:,1],r_pts[:,0],'b.')\n",
    "        #recolour closest points\n",
    "        plt.plot([r_pts[closest[0],1],r_pts[closest[1],1]],\n",
    "                 [r_pts[closest[0],0],r_pts[closest[1],0]],\n",
    "                 'ro')\n",
    "        plt.show()\n",
    "    plt.close()\n",
    "    \n",
    "def show_3d(r_pts, closest):\n",
    "    fig = plt.figure()\n",
    "    ax = fig.add_subplot(111, projection='3d') \n",
    "    if closest == None:     \n",
    "        ax.scatter(r_pts[:,0], r_pts[:,1], r_pts[:,2], s=5, marker='.') #x,y,z\n",
    "        plt.show()\n",
    "    else:\n",
    "        ax.scatter(r_pts[:,0], r_pts[:,1], r_pts[:,2], s=5, marker='.') #x,y,z\n",
    "        ax.scatter(r_pts[closest[0],0], r_pts[closest[0],1], r_pts[closest[0],2], s=50, c='r')\n",
    "        ax.scatter(r_pts[closest[1],0], r_pts[closest[1],1], r_pts[closest[1],2], s=50, c='r')\n",
    "        plt.show()\n",
    "    plt.close()\n",
    "        \n",
    "          \n",
    "def get_closest_pair(r_pts):\n",
    "    \n",
    "    #make kdtree and self compare\n",
    "    tree = spatial.cKDTree(r_pts)\n",
    "\n",
    "    #compute the distances (take the 2 closest as the\n",
    "    #first distance is a self-comparison.\n",
    "    distances, indexes = tree.query(r_pts, 2)\n",
    "    \n",
    "    #find minimum non self-reference distance\n",
    "    mindist_pos = np.argmin(distances[:,1])\n",
    "    print('L2-norm distance', distances[mindist_pos,1])\n",
    "    print('pt1 coords', r_pts[mindist_pos])\n",
    "    print('pt2 coords', r_pts[indexes[mindist_pos,1]])\n",
    "    \n",
    "    #return the two indexes associated with the minimum distance\n",
    "    return mindist_pos, indexes[mindist_pos,1] \n",
    "\n",
    "def main():\n",
    "    \n",
    "    #get grid size\n",
    "    print('please enter number of random points: ')\n",
    "    n_points = int(input())\n",
    "    print('please enter the number (e.g. 2,3,4,...) of dimensions (2D or 3D will plot): ')\n",
    "    dims = int(input())\n",
    "    \n",
    "    #make random x and y values\n",
    "    random_points = np.random.rand(n_points,dims)\n",
    "        \n",
    "    #find the closest point pair\n",
    "    closest_index = get_closest_pair(random_points)\n",
    "    \n",
    "    #replot\n",
    "    if dims == 2:\n",
    "        show_2d(random_points, closest_index)\n",
    "    if dims == 3:\n",
    "        show_3d(random_points, closest_index)\n",
    "    \n",
    "if __name__ == '__main__':\n",
    "    sys.exit(main())"
   ]
  },
  {
   "cell_type": "code",
   "execution_count": 4,
   "metadata": {
    "scrolled": true
   },
   "outputs": [
    {
     "ename": "NameError",
     "evalue": "name 'xrange' is not defined",
     "output_type": "error",
     "traceback": [
      "\u001b[1;31m---------------------------------------------------------------------------\u001b[0m",
      "\u001b[1;31mNameError\u001b[0m                                 Traceback (most recent call last)",
      "\u001b[1;32m<ipython-input-4-bbffc2dd4f3a>\u001b[0m in \u001b[0;36m<module>\u001b[1;34m\u001b[0m\n\u001b[0;32m     86\u001b[0m \u001b[1;33m\u001b[0m\u001b[0m\n\u001b[0;32m     87\u001b[0m \u001b[1;32mif\u001b[0m \u001b[0m__name__\u001b[0m \u001b[1;33m==\u001b[0m \u001b[1;34m\"__main__\"\u001b[0m\u001b[1;33m:\u001b[0m\u001b[1;33m\u001b[0m\u001b[1;33m\u001b[0m\u001b[0m\n\u001b[1;32m---> 88\u001b[1;33m     \u001b[0mptlst\u001b[0m \u001b[1;33m=\u001b[0m \u001b[0mgenRandomMatrix\u001b[0m\u001b[1;33m(\u001b[0m\u001b[1;36m60\u001b[0m\u001b[1;33m,\u001b[0m \u001b[1;36m3\u001b[0m\u001b[1;33m)\u001b[0m\u001b[1;33m\u001b[0m\u001b[1;33m\u001b[0m\u001b[0m\n\u001b[0m\u001b[0;32m     89\u001b[0m     \u001b[0mret0\u001b[0m \u001b[1;33m=\u001b[0m \u001b[0mClosetPair\u001b[0m\u001b[1;33m(\u001b[0m\u001b[0mptlst\u001b[0m\u001b[1;33m)\u001b[0m\u001b[1;33m\u001b[0m\u001b[1;33m\u001b[0m\u001b[0m\n\u001b[0;32m     90\u001b[0m     \u001b[0mret1\u001b[0m \u001b[1;33m=\u001b[0m \u001b[0mBruceForceCloestPair\u001b[0m\u001b[1;33m(\u001b[0m\u001b[0mptlst\u001b[0m\u001b[1;33m)\u001b[0m\u001b[1;33m\u001b[0m\u001b[1;33m\u001b[0m\u001b[0m\n",
      "\u001b[1;32m<ipython-input-4-bbffc2dd4f3a>\u001b[0m in \u001b[0;36mgenRandomMatrix\u001b[1;34m(m, n)\u001b[0m\n\u001b[0;32m     83\u001b[0m \u001b[1;31m# test code\u001b[0m\u001b[1;33m\u001b[0m\u001b[1;33m\u001b[0m\u001b[1;33m\u001b[0m\u001b[0m\n\u001b[0;32m     84\u001b[0m \u001b[1;32mdef\u001b[0m \u001b[0mgenRandomMatrix\u001b[0m\u001b[1;33m(\u001b[0m\u001b[0mm\u001b[0m\u001b[1;33m,\u001b[0m \u001b[0mn\u001b[0m\u001b[1;33m)\u001b[0m\u001b[1;33m:\u001b[0m\u001b[1;33m\u001b[0m\u001b[1;33m\u001b[0m\u001b[0m\n\u001b[1;32m---> 85\u001b[1;33m     \u001b[1;32mreturn\u001b[0m \u001b[1;33m[\u001b[0m\u001b[1;33m[\u001b[0m\u001b[0mrandom\u001b[0m\u001b[1;33m.\u001b[0m\u001b[0mrandom\u001b[0m\u001b[1;33m(\u001b[0m\u001b[1;33m)\u001b[0m \u001b[1;32mfor\u001b[0m \u001b[0mj\u001b[0m \u001b[1;32min\u001b[0m \u001b[0mxrange\u001b[0m\u001b[1;33m(\u001b[0m\u001b[0mn\u001b[0m\u001b[1;33m)\u001b[0m\u001b[1;33m]\u001b[0m \u001b[1;32mfor\u001b[0m \u001b[0mi\u001b[0m \u001b[1;32min\u001b[0m \u001b[0mxrange\u001b[0m\u001b[1;33m(\u001b[0m\u001b[0mm\u001b[0m\u001b[1;33m)\u001b[0m\u001b[1;33m]\u001b[0m\u001b[1;33m\u001b[0m\u001b[1;33m\u001b[0m\u001b[0m\n\u001b[0m\u001b[0;32m     86\u001b[0m \u001b[1;33m\u001b[0m\u001b[0m\n\u001b[0;32m     87\u001b[0m \u001b[1;32mif\u001b[0m \u001b[0m__name__\u001b[0m \u001b[1;33m==\u001b[0m \u001b[1;34m\"__main__\"\u001b[0m\u001b[1;33m:\u001b[0m\u001b[1;33m\u001b[0m\u001b[1;33m\u001b[0m\u001b[0m\n",
      "\u001b[1;31mNameError\u001b[0m: name 'xrange' is not defined"
     ]
    }
   ],
   "source": [
    "import math\n",
    "import random\n",
    "import numpy\n",
    "\n",
    "\n",
    "def eulicd(pt0, pt1):\n",
    "    return math.sqrt(sum(map(lambda x, y: (x - y) ** 2, pt0, pt1)))\n",
    "\n",
    "\n",
    "def oneNorm(pt0, pt1):\n",
    "    return sum(map(lambda x, y: abs(x - y), pt0, pt1))\n",
    "\n",
    "\n",
    "def infNorm(pt0, pt1):\n",
    "    return max(map(lambda x, y: abs(x - y), pt0, pt1))\n",
    "\n",
    "\n",
    "def pNorm(pt0, pt1):\n",
    "    return (sum(map(lambda x, y: (x - y) ** p, pt0, pt1))) ** (1. / p)\n",
    "\n",
    "\n",
    "def distance(pt0, pt1):\n",
    "    return infNorm(pt0, pt1)\n",
    "\n",
    "\n",
    "def BruceForceCloestPair(ptlst):\n",
    "    mindist = distance(ptlst[0], ptlst[1])\n",
    "    pair = (ptlst[0], ptlst[1])\n",
    "    for i in xrange(len(ptlst)):\n",
    "        for j in xrange(i + 1, len(ptlst)):\n",
    "            dist = distance(ptlst[i], ptlst[j])\n",
    "            if dist < mindist:\n",
    "                mindist = dist\n",
    "                pair = (ptlst[i], ptlst[j])\n",
    "    return mindist, pair\n",
    "\n",
    "\n",
    "def medianDivide(xsort, ysort):\n",
    "    l = len(xsort)\n",
    "    median = xsort[l / 2][0]\n",
    "    leftx = xsort[0:l / 2]\n",
    "    rightx = xsort[l / 2:]\n",
    "    lefty = []\n",
    "    righty = []\n",
    "    for i in ysort:\n",
    "        if i[0] < median:\n",
    "            lefty.append(i)\n",
    "        else:\n",
    "            righty.append(i)\n",
    "    return median, leftx, lefty, rightx, righty\n",
    "\n",
    "\n",
    "def DivideConquer(xsort, ysort):\n",
    "    if len(xsort) <= 3:\n",
    "        return BruceForceCloestPair(xsort)\n",
    "    median, leftx, lefty, rightx, righty = medianDivide(xsort, ysort)\n",
    "    min0, pair0 = DivideConquer(leftx, lefty)\n",
    "    min1, pair1 = DivideConquer(rightx, righty)\n",
    "    (m, pair) = (min0, pair0) if min0 < min1 else (min1, pair1)\n",
    "    leftj, rightj = median - m, median + m\n",
    "    yy = []\n",
    "    for pt in ysort:\n",
    "        if leftj < pt[0] < rightj:\n",
    "            yy.append(pt)\n",
    "    l = len(yy)\n",
    "    for i in range(l):\n",
    "        for j in range(i + 1, min(l, i + 8)):\n",
    "            dist = distance(yy[i], yy[j])\n",
    "            if dist < m:\n",
    "                m, pair = dist, (yy[i], yy[j])\n",
    "    return m, pair\n",
    "\n",
    "\n",
    "def ClosetPair(ptlst):\n",
    "    from copy import deepcopy\n",
    "    xsort = deepcopy(ptlst)\n",
    "    xsort = sorted(xsort, key=lambda pt: pt[0])\n",
    "    ysort = deepcopy(ptlst)\n",
    "    ysort = sorted(ysort, key=lambda pt: pt[1])\n",
    "    return DivideConquer(xsort, ysort)\n",
    "\n",
    "\n",
    "# test code\n",
    "def genRandomMatrix(m, n):\n",
    "    return [[random.random() for j in xrange(n)] for i in xrange(m)]\n",
    "\n",
    "if __name__ == \"__main__\":\n",
    "    ptlst = genRandomMatrix(60, 3)\n",
    "    ret0 = ClosetPair(ptlst)\n",
    "    ret1 = BruceForceCloestPair(ptlst)\n",
    "    if ret0[0] > ret1[0]:\n",
    "        print(\"wrong\")\n",
    "    else:\n",
    "        print(\"right\")"
   ]
  },
  {
   "cell_type": "code",
   "execution_count": 7,
   "metadata": {},
   "outputs": [
    {
     "ename": "SystemExit",
     "evalue": "",
     "output_type": "error",
     "traceback": [
      "\u001b[1;31m---------------------------------------------------------------------------\u001b[0m",
      "\u001b[1;31mSystemExit\u001b[0m                                Traceback (most recent call last)",
      "\u001b[1;32m<ipython-input-6-80f7590d553d>\u001b[0m in \u001b[0;36m<module>\u001b[1;34m\u001b[0m\n\u001b[0;32m     78\u001b[0m \u001b[1;33m\u001b[0m\u001b[0m\n\u001b[0;32m     79\u001b[0m \u001b[1;32mif\u001b[0m \u001b[0m__name__\u001b[0m \u001b[1;33m==\u001b[0m \u001b[1;34m'__main__'\u001b[0m\u001b[1;33m:\u001b[0m\u001b[1;33m\u001b[0m\u001b[1;33m\u001b[0m\u001b[0m\n\u001b[1;32m---> 80\u001b[1;33m     \u001b[0msys\u001b[0m\u001b[1;33m.\u001b[0m\u001b[0mexit\u001b[0m\u001b[1;33m(\u001b[0m\u001b[0mmain\u001b[0m\u001b[1;33m(\u001b[0m\u001b[1;33m)\u001b[0m\u001b[1;33m)\u001b[0m\u001b[1;33m\u001b[0m\u001b[1;33m\u001b[0m\u001b[0m\n\u001b[0m",
      "\u001b[1;31mSystemExit\u001b[0m: "
     ]
    }
   ],
   "source": []
  },
  {
   "cell_type": "code",
   "execution_count": null,
   "metadata": {},
   "outputs": [],
   "source": []
  }
 ],
 "metadata": {
  "kernelspec": {
   "display_name": "Python 3",
   "language": "python",
   "name": "python3"
  },
  "language_info": {
   "codemirror_mode": {
    "name": "ipython",
    "version": 3
   },
   "file_extension": ".py",
   "mimetype": "text/x-python",
   "name": "python",
   "nbconvert_exporter": "python",
   "pygments_lexer": "ipython3",
   "version": "3.8.3"
  }
 },
 "nbformat": 4,
 "nbformat_minor": 4
}
