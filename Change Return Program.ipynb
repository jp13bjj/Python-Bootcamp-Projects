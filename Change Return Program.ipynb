{
 "cells": [
  {
   "cell_type": "code",
   "execution_count": 31,
   "metadata": {},
   "outputs": [],
   "source": [
    "def change(cost,money_given):\n",
    "    '''Returns change in quarters, dimes, nickels, and pennies '''\n",
    "    change = money_given - cost\n",
    "    quarters = 0\n",
    "    dimes = 0\n",
    "    nickels = 0\n",
    "    pennies = 0\n",
    "    \n",
    "    while True:\n",
    "        # Counting number of quarters\n",
    "        if round(change/.25,2) >= 1:\n",
    "            change = change - .25\n",
    "            quarters += 1\n",
    "        # Counting number of dimes\n",
    "        elif round(change/.10,2) >= 1:\n",
    "            change = change - .10\n",
    "            dimes += 1\n",
    "        # Counting number of nickels\n",
    "        elif round(change/.05,2) >= 1:\n",
    "            change = change - .05\n",
    "            nickels += 1\n",
    "        # Counting number of pennies\n",
    "        elif round(change/.01,2) >= 1:\n",
    "            change = change - .01\n",
    "            pennies += 1\n",
    "        else:\n",
    "            break\n",
    "    print('This is your change:')\n",
    "    print(f\"{quarters}: quarters\")\n",
    "    print(f\"{dimes}: dimes\")\n",
    "    print(f\"{nickels}: nickels\")\n",
    "    print(f\"{pennies}: pennies\")"
   ]
  },
  {
   "cell_type": "code",
   "execution_count": 32,
   "metadata": {},
   "outputs": [
    {
     "name": "stdout",
     "output_type": "stream",
     "text": [
      "This is your change:\n",
      "6: quarters\n",
      "1: dimes\n",
      "1: nickels\n",
      "2: pennies\n"
     ]
    }
   ],
   "source": [
    "change(20,21.67)"
   ]
  },
  {
   "cell_type": "code",
   "execution_count": null,
   "metadata": {},
   "outputs": [],
   "source": []
  }
 ],
 "metadata": {
  "kernelspec": {
   "display_name": "Python 3",
   "language": "python",
   "name": "python3"
  },
  "language_info": {
   "codemirror_mode": {
    "name": "ipython",
    "version": 3
   },
   "file_extension": ".py",
   "mimetype": "text/x-python",
   "name": "python",
   "nbconvert_exporter": "python",
   "pygments_lexer": "ipython3",
   "version": "3.8.3"
  }
 },
 "nbformat": 4,
 "nbformat_minor": 4
}
