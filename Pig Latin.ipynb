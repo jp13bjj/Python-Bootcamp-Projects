{
 "cells": [
  {
   "cell_type": "code",
   "execution_count": 66,
   "metadata": {},
   "outputs": [],
   "source": [
    "def pig_lat(st):\n",
    "    #Initializing variables\n",
    "    st_list = list(st.split())\n",
    "    final_list = []\n",
    "    \n",
    "    #Looping through each word in sentence\n",
    "    for count,value in enumerate(st_list):\n",
    "        # Getting first letter of word and appending -ay\n",
    "        first_word = st_list[count]\n",
    "        first_letter = first_word[0]\n",
    "        first_letter = first_letter+'ay'\n",
    "        \n",
    "        # Getting last letters of word\n",
    "        last_letters = first_word[1:]\n",
    "        \n",
    "        # Getting pig latin words\n",
    "        new_word = last_letters+'-'+first_letter\n",
    "        final_list.append(new_word)\n",
    "    #Returning pig latin sentence\n",
    "    return ' '.join(final_list)"
   ]
  },
  {
   "cell_type": "code",
   "execution_count": 67,
   "metadata": {},
   "outputs": [
    {
     "data": {
      "text/plain": [
       "'anana-bay'"
      ]
     },
     "execution_count": 67,
     "metadata": {},
     "output_type": "execute_result"
    }
   ],
   "source": [
    "pig_lat('banana')"
   ]
  },
  {
   "cell_type": "code",
   "execution_count": null,
   "metadata": {},
   "outputs": [],
   "source": []
  },
  {
   "cell_type": "code",
   "execution_count": null,
   "metadata": {},
   "outputs": [],
   "source": []
  }
 ],
 "metadata": {
  "kernelspec": {
   "display_name": "Python 3",
   "language": "python",
   "name": "python3"
  },
  "language_info": {
   "codemirror_mode": {
    "name": "ipython",
    "version": 3
   },
   "file_extension": ".py",
   "mimetype": "text/x-python",
   "name": "python",
   "nbconvert_exporter": "python",
   "pygments_lexer": "ipython3",
   "version": "3.8.3"
  }
 },
 "nbformat": 4,
 "nbformat_minor": 4
}
