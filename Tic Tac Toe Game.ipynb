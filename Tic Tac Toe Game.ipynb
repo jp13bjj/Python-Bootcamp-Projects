{
 "cells": [
  {
   "cell_type": "markdown",
   "metadata": {},
   "source": [
    "___\n",
    "\n",
    "<a href='https://www.udemy.com/user/joseportilla/'><img src='../Pierian_Data_Logo.png'/></a>\n",
    "___\n",
    "<center><em>Content Copyright by Pierian Data</em></center>"
   ]
  },
  {
   "cell_type": "markdown",
   "metadata": {},
   "source": [
    "# Milestone Project 1: Walkthrough Steps Workbook\n",
    "\n",
    "Below is a set of steps for you to follow to try to create the Tic Tac Toe Milestone Project game!"
   ]
  },
  {
   "cell_type": "markdown",
   "metadata": {},
   "source": [
    "#### Some suggested tools before you get started:\n",
    "To take input from a user:\n",
    "\n",
    "    player1 = input(\"Please pick a marker 'X' or 'O'\")\n",
    "    \n",
    "Note that input() takes in a string. If you need an integer value, use\n",
    "\n",
    "    position = int(input('Please enter a number'))\n",
    "    \n",
    "<br>To clear the screen between moves:\n",
    "\n",
    "    from IPython.display import clear_output\n",
    "    clear_output()\n",
    "    \n",
    "Note that clear_output() will only work in jupyter. To clear the screen in other IDEs, consider:\n",
    "\n",
    "    print('\\n'*100)\n",
    "    \n",
    "This scrolls the previous board up out of view. Now on to the program!"
   ]
  },
  {
   "cell_type": "markdown",
   "metadata": {},
   "source": [
    "**Step 1: Write a function that can print out a board. Set up your board as a list, where each index 1-9 corresponds with a number on a number pad, so you get a 3 by 3 board representation.**"
   ]
  },
  {
   "cell_type": "code",
   "execution_count": 1,
   "metadata": {},
   "outputs": [],
   "source": [
    "from IPython.display import clear_output\n",
    "\n",
    "def display_board(board):\n",
    "    print(' '+board[7]+'|'+board[8]+'|'+board[9]+' ')\n",
    "    print('-------')\n",
    "    print(' '+board[4]+'|'+board[5]+'|'+board[6]+' ')\n",
    "    print('-------')\n",
    "    print(' '+board[1]+'|'+board[2]+'|'+board[3]+' ')"
   ]
  },
  {
   "cell_type": "markdown",
   "metadata": {},
   "source": [
    "**TEST Step 1:** run your function on a test version of the board list, and make adjustments as necessary"
   ]
  },
  {
   "cell_type": "code",
   "execution_count": 2,
   "metadata": {},
   "outputs": [
    {
     "name": "stdout",
     "output_type": "stream",
     "text": [
      " X|O|X \n",
      "-------\n",
      " O|X|O \n",
      "-------\n",
      " X|O|X \n"
     ]
    }
   ],
   "source": [
    "test_board = ['#','X','O','X','O','X','O','X','O','X']\n",
    "display_board(test_board)"
   ]
  },
  {
   "cell_type": "markdown",
   "metadata": {},
   "source": [
    "**Step 2: Write a function that can take in a player input and assign their marker as 'X' or 'O'. Think about using *while* loops to continually ask until you get a correct answer.**"
   ]
  },
  {
   "cell_type": "code",
   "execution_count": 3,
   "metadata": {},
   "outputs": [],
   "source": [
    "def player_input():\n",
    "    #Initializing player 1 marker\n",
    "    player1_marker = ''\n",
    "    \n",
    "    #Assigning player 1 and 2 marker icons\n",
    "    while player1_marker != 'X' and player1_marker != 'O':\n",
    "        player1_marker = input(\"Player 1 choose your marker ('X' or 'O'): \")\n",
    "        if player1_marker == 'X':\n",
    "            player2_marker = 'O'\n",
    "        else:\n",
    "            player2_marker = 'X'\n",
    "    return (player1_marker,player2_marker)"
   ]
  },
  {
   "cell_type": "markdown",
   "metadata": {},
   "source": [
    "**TEST Step 2:** run the function to make sure it returns the desired output"
   ]
  },
  {
   "cell_type": "code",
   "execution_count": 4,
   "metadata": {},
   "outputs": [
    {
     "name": "stdout",
     "output_type": "stream",
     "text": [
      "Player 1 choose your marker ('X' or 'O'): X\n"
     ]
    },
    {
     "data": {
      "text/plain": [
       "('X', 'O')"
      ]
     },
     "execution_count": 4,
     "metadata": {},
     "output_type": "execute_result"
    }
   ],
   "source": [
    "player_input()"
   ]
  },
  {
   "cell_type": "markdown",
   "metadata": {},
   "source": [
    "**Step 3: Write a function that takes in the board list object, a marker ('X' or 'O'), and a desired position (number 1-9) and assigns it to the board.**"
   ]
  },
  {
   "cell_type": "code",
   "execution_count": 5,
   "metadata": {},
   "outputs": [],
   "source": [
    "def place_marker(board, marker, position):\n",
    "    board[position] = marker\n",
    "    pass"
   ]
  },
  {
   "cell_type": "markdown",
   "metadata": {},
   "source": [
    "**TEST Step 3:** run the place marker function using test parameters and display the modified board"
   ]
  },
  {
   "cell_type": "code",
   "execution_count": 6,
   "metadata": {},
   "outputs": [
    {
     "name": "stdout",
     "output_type": "stream",
     "text": [
      " X|$|X \n",
      "-------\n",
      " O|X|O \n",
      "-------\n",
      " X|O|X \n"
     ]
    }
   ],
   "source": [
    "place_marker(test_board,'$',8)\n",
    "display_board(test_board)"
   ]
  },
  {
   "cell_type": "markdown",
   "metadata": {},
   "source": [
    "**Step 4: Write a function that takes in a board and a mark (X or O) and then checks to see if that mark has won. **"
   ]
  },
  {
   "cell_type": "code",
   "execution_count": 7,
   "metadata": {},
   "outputs": [],
   "source": [
    "def win_check(board, mark):\n",
    "    return (board[1] == board[2] == board[3] == mark or #bottom row\n",
    "    board[4] == board[5] == board[6] == mark or #middle row\n",
    "    board[7] == board[8] == board[9] == mark or #top row\n",
    "    board[1] == board[4] == board[7] == mark or #left column\n",
    "    board[2] == board[5] == board[8] == mark or #middle column\n",
    "    board[3] == board[6] == board[9] == mark or #right column\n",
    "    board[1] == board[5] == board[9] == mark or #diagonal\n",
    "    board[3] == board[5] == board[7] == mark) #diagonal\n",
    "    pass"
   ]
  },
  {
   "cell_type": "markdown",
   "metadata": {},
   "source": [
    "**TEST Step 4:** run the win_check function against our test_board - it should return True"
   ]
  },
  {
   "cell_type": "code",
   "execution_count": 8,
   "metadata": {},
   "outputs": [
    {
     "data": {
      "text/plain": [
       "True"
      ]
     },
     "execution_count": 8,
     "metadata": {},
     "output_type": "execute_result"
    }
   ],
   "source": [
    "win_check(test_board,'X')"
   ]
  },
  {
   "cell_type": "markdown",
   "metadata": {},
   "source": [
    "**Step 5: Write a function that uses the random module to randomly decide which player goes first. You may want to lookup random.randint() Return a string of which player went first.**"
   ]
  },
  {
   "cell_type": "code",
   "execution_count": 9,
   "metadata": {},
   "outputs": [],
   "source": [
    "import random\n",
    "\n",
    "def choose_first():\n",
    "    firstplayer_order = str(random.randint(1,2))\n",
    "    return firstplayer_order"
   ]
  },
  {
   "cell_type": "markdown",
   "metadata": {},
   "source": [
    "**Step 6: Write a function that returns a boolean indicating whether a space on the board is freely available.**"
   ]
  },
  {
   "cell_type": "code",
   "execution_count": 10,
   "metadata": {},
   "outputs": [
    {
     "data": {
      "text/plain": [
       "False"
      ]
     },
     "execution_count": 10,
     "metadata": {},
     "output_type": "execute_result"
    }
   ],
   "source": [
    "def space_check(board, position):\n",
    "    return board[position] == ' '\n",
    "space_check(test_board,1)"
   ]
  },
  {
   "cell_type": "markdown",
   "metadata": {},
   "source": [
    "**Step 7: Write a function that checks if the board is full and returns a boolean value. True if full, False otherwise.**"
   ]
  },
  {
   "cell_type": "code",
   "execution_count": 11,
   "metadata": {},
   "outputs": [
    {
     "data": {
      "text/plain": [
       "False"
      ]
     },
     "execution_count": 11,
     "metadata": {},
     "output_type": "execute_result"
    }
   ],
   "source": [
    "def full_board_check(board):\n",
    "    return all(board) == True and ' ' not in board[1:]\n",
    "test_board2 = [' ',' ',' ',' ',' ','O']\n",
    "full_board_check(test_board2)"
   ]
  },
  {
   "cell_type": "markdown",
   "metadata": {},
   "source": [
    "**Step 8: Write a function that asks for a player's next position (as a number 1-9) and then uses the function from step 6 to check if it's a free position. If it is, then return the position for later use.**"
   ]
  },
  {
   "cell_type": "code",
   "execution_count": 12,
   "metadata": {},
   "outputs": [],
   "source": [
    "def player_choice(board):\n",
    "    #position = int(input('What position would you like to place a marker (as a number 1-9)?: '))\n",
    "    #if not space_check(board,position):\n",
    "    #    return position\n",
    "    \n",
    "    position = 0\n",
    "    \n",
    "    while position not in [1,2,3,4,5,6,7,8,9] or not space_check(board, position):\n",
    "        position = int(input('Choose your next position: (1-9) '))    \n",
    "        \n",
    "    return position\n",
    "\n",
    "#testvar = player_choice(test_board)\n",
    "#print('The value we should get is: {}'.format(testvar))"
   ]
  },
  {
   "cell_type": "markdown",
   "metadata": {},
   "source": [
    "**Step 9: Write a function that asks the player if they want to play again and returns a boolean True if they do want to play again.**"
   ]
  },
  {
   "cell_type": "code",
   "execution_count": 15,
   "metadata": {},
   "outputs": [
    {
     "name": "stdout",
     "output_type": "stream",
     "text": [
      "Do you want to play again (Y/N)?y\n"
     ]
    },
    {
     "data": {
      "text/plain": [
       "True"
      ]
     },
     "execution_count": 15,
     "metadata": {},
     "output_type": "execute_result"
    }
   ],
   "source": [
    "def replay():\n",
    "    play_again = input('Do you want to play again (Y/N)?: ')\n",
    "    if play_again.lower() == 'y':\n",
    "        return True\n",
    "replay()"
   ]
  },
  {
   "cell_type": "markdown",
   "metadata": {
    "collapsed": true
   },
   "source": [
    "**Step 10: Here comes the hard part! Use while loops and the functions you've made to run the game!**"
   ]
  },
  {
   "cell_type": "code",
   "execution_count": 16,
   "metadata": {},
   "outputs": [
    {
     "name": "stdout",
     "output_type": "stream",
     "text": [
      "Welcome to Tic Tac Toe!\n",
      "Player 1 choose your marker ('X' or 'O'): X\n",
      "Player 2 will go first.\n",
      "Are you ready to play? (Y/N): y\n",
      "  | |  \n",
      "-------\n",
      "  | |  \n",
      "-------\n",
      "  | |  \n",
      "Choose your next position: (1-9) 1\n",
      "  | |  \n",
      "-------\n",
      "  | |  \n",
      "-------\n",
      " O| |  \n",
      "Choose your next position: (1-9) 2\n",
      "  | |  \n",
      "-------\n",
      "  | |  \n",
      "-------\n",
      " O|X|  \n",
      "Choose your next position: (1-9) 3\n",
      "  | |  \n",
      "-------\n",
      "  | |  \n",
      "-------\n",
      " O|X|O \n",
      "Choose your next position: (1-9) 4\n",
      "  | |  \n",
      "-------\n",
      " X| |  \n",
      "-------\n",
      " O|X|O \n",
      "Choose your next position: (1-9) 5\n",
      "  | |  \n",
      "-------\n",
      " X|O|  \n",
      "-------\n",
      " O|X|O \n",
      "Choose your next position: (1-9) 6\n",
      "  | |  \n",
      "-------\n",
      " X|O|X \n",
      "-------\n",
      " O|X|O \n",
      "Choose your next position: (1-9) 7\n",
      " O| |  \n",
      "-------\n",
      " X|O|X \n",
      "-------\n",
      " O|X|O \n",
      "Congratulations! Player 2 has won the game.\n",
      "Do you want to play again (Y/N)?y\n",
      "Player 1 choose your marker ('X' or 'O'): O\n",
      "Player 1 will go first.\n",
      "Are you ready to play? (Y/N): y\n",
      "  | |  \n",
      "-------\n",
      "  | |  \n",
      "-------\n",
      "  | |  \n",
      "Choose your next position: (1-9) 12\n",
      "Choose your next position: (1-9) 1\n",
      "  | |  \n",
      "-------\n",
      "  | |  \n",
      "-------\n",
      " O| |  \n",
      "Choose your next position: (1-9) 2\n",
      "  | |  \n",
      "-------\n",
      "  | |  \n",
      "-------\n",
      " O|X|  \n",
      "Choose your next position: (1-9) 3\n",
      "  | |  \n",
      "-------\n",
      "  | |  \n",
      "-------\n",
      " O|X|O \n",
      "Choose your next position: (1-9) 4\n",
      "  | |  \n",
      "-------\n",
      " X| |  \n",
      "-------\n",
      " O|X|O \n",
      "Choose your next position: (1-9) 5\n",
      "  | |  \n",
      "-------\n",
      " X|O|  \n",
      "-------\n",
      " O|X|O \n",
      "Choose your next position: (1-9) 5\n",
      "Choose your next position: (1-9) 5\n",
      "Choose your next position: (1-9) 7\n",
      " X| |  \n",
      "-------\n",
      " X|O|  \n",
      "-------\n",
      " O|X|O \n",
      "Choose your next position: (1-9) 8\n",
      " X|O|  \n",
      "-------\n",
      " X|O|  \n",
      "-------\n",
      " O|X|O \n",
      "Choose your next position: (1-9) 6\n",
      " X|O|  \n",
      "-------\n",
      " X|O|X \n",
      "-------\n",
      " O|X|O \n",
      "Choose your next position: (1-9) 9\n",
      " X|O|O \n",
      "-------\n",
      " X|O|X \n",
      "-------\n",
      " O|X|O \n",
      "Congratulations! Player 1 has won the game.\n",
      "Do you want to play again (Y/N)?n\n"
     ]
    }
   ],
   "source": [
    "print('Welcome to Tic Tac Toe!')\n",
    "\n",
    "while True:\n",
    "    # Set the game up here\n",
    "    game_board = [' ']*10\n",
    "    player1_marker,player2_marker = player_input()\n",
    "    player_turn = choose_first()\n",
    "    print(\"Player {} will go first.\".format(player_turn))\n",
    "    \n",
    "    play_game = input('Are you ready to play? (Y/N): ')\n",
    "    \n",
    "    if play_game.lower() == 'y':\n",
    "        game_on = True\n",
    "    elif play_game.lower() == 'n':\n",
    "        game_on = False\n",
    "\n",
    "    while game_on:\n",
    "        if player_turn == '1':\n",
    "        #Player 1 Turn\n",
    "            display_board(game_board)\n",
    "            position = player_choice(game_board)\n",
    "            place_marker(game_board, player1_marker, position)\n",
    "\n",
    "            if win_check(game_board, player1_marker):\n",
    "                display_board(game_board)\n",
    "                print('Congratulations! Player {} has won the game.'.format(player_turn))\n",
    "                game_on = False\n",
    "            elif full_board_check(game_board):\n",
    "                display_board(game_board)\n",
    "                print('The game is a draw.')\n",
    "                break\n",
    "            else:\n",
    "                player_turn = '2'\n",
    "                \n",
    "        #Player2's turn\n",
    "        else:\n",
    "            display_board(game_board)\n",
    "            position = player_choice(game_board)\n",
    "            place_marker(game_board, player2_marker, position)\n",
    "            \n",
    "            if win_check(game_board, player2_marker):\n",
    "                display_board(game_board)\n",
    "                print('Congratulations! Player {} has won the game.'.format(player_turn))\n",
    "                game_on = False\n",
    "            elif full_board_check(game_board):\n",
    "                display_board(game_board)\n",
    "                print('The game is a draw.')\n",
    "                break\n",
    "            else:\n",
    "                player_turn = '1'\n",
    "\n",
    "    if not replay():\n",
    "        break"
   ]
  },
  {
   "cell_type": "markdown",
   "metadata": {
    "collapsed": true
   },
   "source": [
    "# Good Job!"
   ]
  }
 ],
 "metadata": {
  "kernelspec": {
   "display_name": "Python 3 (ipykernel)",
   "language": "python",
   "name": "python3"
  },
  "language_info": {
   "codemirror_mode": {
    "name": "ipython",
    "version": 3
   },
   "file_extension": ".py",
   "mimetype": "text/x-python",
   "name": "python",
   "nbconvert_exporter": "python",
   "pygments_lexer": "ipython3",
   "version": "3.9.7"
  }
 },
 "nbformat": 4,
 "nbformat_minor": 1
}
